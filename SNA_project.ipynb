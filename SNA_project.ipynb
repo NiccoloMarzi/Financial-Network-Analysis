{
  "cells": [
    {
      "cell_type": "code",
      "execution_count": 60,
      "metadata": {
        "id": "0xPxUELjY74W"
      },
      "outputs": [],
      "source": [
        "import pandas as pd\n",
        "import math\n",
        "import numpy as np\n",
        "import matplotlib.pyplot as plt\n",
        "import networkx as nx"
      ]
    },
    {
      "cell_type": "code",
      "execution_count": 163,
      "metadata": {},
      "outputs": [
        {
          "data": {
            "text/html": [
              "<div>\n",
              "<style scoped>\n",
              "    .dataframe tbody tr th:only-of-type {\n",
              "        vertical-align: middle;\n",
              "    }\n",
              "\n",
              "    .dataframe tbody tr th {\n",
              "        vertical-align: top;\n",
              "    }\n",
              "\n",
              "    .dataframe thead th {\n",
              "        text-align: right;\n",
              "    }\n",
              "</style>\n",
              "<table border=\"1\" class=\"dataframe\">\n",
              "  <thead>\n",
              "    <tr style=\"text-align: right;\">\n",
              "      <th></th>\n",
              "      <th>0</th>\n",
              "      <th>1</th>\n",
              "      <th>2</th>\n",
              "      <th>3</th>\n",
              "      <th>4</th>\n",
              "      <th>5</th>\n",
              "      <th>6</th>\n",
              "      <th>7</th>\n",
              "      <th>8</th>\n",
              "      <th>9</th>\n",
              "      <th>...</th>\n",
              "      <th>733</th>\n",
              "      <th>734</th>\n",
              "      <th>735</th>\n",
              "      <th>736</th>\n",
              "      <th>737</th>\n",
              "      <th>738</th>\n",
              "      <th>739</th>\n",
              "      <th>740</th>\n",
              "      <th>741</th>\n",
              "      <th>742</th>\n",
              "    </tr>\n",
              "  </thead>\n",
              "  <tbody>\n",
              "    <tr>\n",
              "      <th>A2A</th>\n",
              "      <td>1.3045</td>\n",
              "      <td>1.331</td>\n",
              "      <td>1.3175</td>\n",
              "      <td>1.340</td>\n",
              "      <td>1.340</td>\n",
              "      <td>1.3375</td>\n",
              "      <td>1.3315</td>\n",
              "      <td>1.305</td>\n",
              "      <td>1.335</td>\n",
              "      <td>1.328</td>\n",
              "      <td>...</td>\n",
              "      <td>1.730</td>\n",
              "      <td>1.7535</td>\n",
              "      <td>1.7465</td>\n",
              "      <td>1.7575</td>\n",
              "      <td>1.771</td>\n",
              "      <td>1.7970</td>\n",
              "      <td>1.7925</td>\n",
              "      <td>1.7915</td>\n",
              "      <td>1.7895</td>\n",
              "      <td>1.7865</td>\n",
              "    </tr>\n",
              "    <tr>\n",
              "      <th>ABITARE IN</th>\n",
              "      <td>4.8100</td>\n",
              "      <td>4.830</td>\n",
              "      <td>4.7100</td>\n",
              "      <td>4.860</td>\n",
              "      <td>4.860</td>\n",
              "      <td>4.8300</td>\n",
              "      <td>4.8600</td>\n",
              "      <td>4.900</td>\n",
              "      <td>4.920</td>\n",
              "      <td>4.910</td>\n",
              "      <td>...</td>\n",
              "      <td>5.180</td>\n",
              "      <td>5.1800</td>\n",
              "      <td>5.1400</td>\n",
              "      <td>5.0400</td>\n",
              "      <td>5.000</td>\n",
              "      <td>5.0600</td>\n",
              "      <td>5.0800</td>\n",
              "      <td>5.1800</td>\n",
              "      <td>5.0600</td>\n",
              "      <td>5.0000</td>\n",
              "    </tr>\n",
              "    <tr>\n",
              "      <th>ACEA</th>\n",
              "      <td>17.1500</td>\n",
              "      <td>17.180</td>\n",
              "      <td>17.0100</td>\n",
              "      <td>17.310</td>\n",
              "      <td>17.070</td>\n",
              "      <td>17.2200</td>\n",
              "      <td>17.2500</td>\n",
              "      <td>17.240</td>\n",
              "      <td>17.360</td>\n",
              "      <td>17.390</td>\n",
              "      <td>...</td>\n",
              "      <td>11.100</td>\n",
              "      <td>11.0000</td>\n",
              "      <td>11.0000</td>\n",
              "      <td>11.2700</td>\n",
              "      <td>11.370</td>\n",
              "      <td>11.5900</td>\n",
              "      <td>11.6700</td>\n",
              "      <td>11.8500</td>\n",
              "      <td>11.6100</td>\n",
              "      <td>11.4500</td>\n",
              "    </tr>\n",
              "    <tr>\n",
              "      <th>AEFFE</th>\n",
              "      <td>1.1040</td>\n",
              "      <td>1.086</td>\n",
              "      <td>1.0700</td>\n",
              "      <td>1.118</td>\n",
              "      <td>1.152</td>\n",
              "      <td>1.1640</td>\n",
              "      <td>1.1220</td>\n",
              "      <td>1.102</td>\n",
              "      <td>1.110</td>\n",
              "      <td>1.112</td>\n",
              "      <td>...</td>\n",
              "      <td>0.734</td>\n",
              "      <td>0.7310</td>\n",
              "      <td>0.7330</td>\n",
              "      <td>0.7440</td>\n",
              "      <td>0.745</td>\n",
              "      <td>0.7420</td>\n",
              "      <td>0.8000</td>\n",
              "      <td>0.8050</td>\n",
              "      <td>0.8140</td>\n",
              "      <td>0.8190</td>\n",
              "    </tr>\n",
              "    <tr>\n",
              "      <th>AEROP GUGL MARCO</th>\n",
              "      <td>8.4800</td>\n",
              "      <td>8.360</td>\n",
              "      <td>8.5200</td>\n",
              "      <td>8.520</td>\n",
              "      <td>8.460</td>\n",
              "      <td>8.3400</td>\n",
              "      <td>8.5000</td>\n",
              "      <td>8.500</td>\n",
              "      <td>8.240</td>\n",
              "      <td>8.380</td>\n",
              "      <td>...</td>\n",
              "      <td>8.060</td>\n",
              "      <td>8.0200</td>\n",
              "      <td>8.1000</td>\n",
              "      <td>8.1200</td>\n",
              "      <td>8.100</td>\n",
              "      <td>8.1400</td>\n",
              "      <td>8.1200</td>\n",
              "      <td>8.1200</td>\n",
              "      <td>8.0800</td>\n",
              "      <td>8.0200</td>\n",
              "    </tr>\n",
              "    <tr>\n",
              "      <th>ALERION CLEAN POWER</th>\n",
              "      <td>10.6000</td>\n",
              "      <td>12.850</td>\n",
              "      <td>15.0000</td>\n",
              "      <td>14.900</td>\n",
              "      <td>14.950</td>\n",
              "      <td>14.6500</td>\n",
              "      <td>13.7000</td>\n",
              "      <td>13.800</td>\n",
              "      <td>13.600</td>\n",
              "      <td>12.950</td>\n",
              "      <td>...</td>\n",
              "      <td>23.300</td>\n",
              "      <td>22.4500</td>\n",
              "      <td>22.7000</td>\n",
              "      <td>22.8500</td>\n",
              "      <td>23.350</td>\n",
              "      <td>23.2000</td>\n",
              "      <td>23.7000</td>\n",
              "      <td>23.9000</td>\n",
              "      <td>23.4000</td>\n",
              "      <td>23.6000</td>\n",
              "    </tr>\n",
              "    <tr>\n",
              "      <th>ALGOWATT</th>\n",
              "      <td>0.3420</td>\n",
              "      <td>0.341</td>\n",
              "      <td>0.3400</td>\n",
              "      <td>0.344</td>\n",
              "      <td>0.338</td>\n",
              "      <td>0.3430</td>\n",
              "      <td>0.3440</td>\n",
              "      <td>0.340</td>\n",
              "      <td>0.340</td>\n",
              "      <td>0.337</td>\n",
              "      <td>...</td>\n",
              "      <td>0.330</td>\n",
              "      <td>0.3200</td>\n",
              "      <td>0.3130</td>\n",
              "      <td>0.3130</td>\n",
              "      <td>0.313</td>\n",
              "      <td>0.3155</td>\n",
              "      <td>0.3205</td>\n",
              "      <td>0.3200</td>\n",
              "      <td>0.3150</td>\n",
              "      <td>0.3130</td>\n",
              "    </tr>\n",
              "    <tr>\n",
              "      <th>ALKEMY</th>\n",
              "      <td>7.0800</td>\n",
              "      <td>7.040</td>\n",
              "      <td>6.9200</td>\n",
              "      <td>6.900</td>\n",
              "      <td>6.840</td>\n",
              "      <td>7.1000</td>\n",
              "      <td>7.0000</td>\n",
              "      <td>7.000</td>\n",
              "      <td>6.940</td>\n",
              "      <td>6.880</td>\n",
              "      <td>...</td>\n",
              "      <td>7.260</td>\n",
              "      <td>7.1400</td>\n",
              "      <td>6.9500</td>\n",
              "      <td>6.8000</td>\n",
              "      <td>7.000</td>\n",
              "      <td>7.1000</td>\n",
              "      <td>7.2200</td>\n",
              "      <td>7.3100</td>\n",
              "      <td>7.2200</td>\n",
              "      <td>7.3700</td>\n",
              "    </tr>\n",
              "    <tr>\n",
              "      <th>AMPLIFON</th>\n",
              "      <td>34.0400</td>\n",
              "      <td>33.940</td>\n",
              "      <td>33.5600</td>\n",
              "      <td>33.020</td>\n",
              "      <td>32.680</td>\n",
              "      <td>33.8400</td>\n",
              "      <td>33.6800</td>\n",
              "      <td>33.620</td>\n",
              "      <td>33.910</td>\n",
              "      <td>34.160</td>\n",
              "      <td>...</td>\n",
              "      <td>27.290</td>\n",
              "      <td>26.8400</td>\n",
              "      <td>25.7600</td>\n",
              "      <td>25.3800</td>\n",
              "      <td>26.640</td>\n",
              "      <td>26.5000</td>\n",
              "      <td>27.5300</td>\n",
              "      <td>27.7000</td>\n",
              "      <td>27.7600</td>\n",
              "      <td>27.6400</td>\n",
              "    </tr>\n",
              "    <tr>\n",
              "      <th>ANIMA HOLDING</th>\n",
              "      <td>3.8820</td>\n",
              "      <td>3.926</td>\n",
              "      <td>3.9040</td>\n",
              "      <td>4.034</td>\n",
              "      <td>4.080</td>\n",
              "      <td>4.1140</td>\n",
              "      <td>4.1600</td>\n",
              "      <td>4.220</td>\n",
              "      <td>4.142</td>\n",
              "      <td>4.092</td>\n",
              "      <td>...</td>\n",
              "      <td>3.816</td>\n",
              "      <td>3.8320</td>\n",
              "      <td>3.8400</td>\n",
              "      <td>3.8280</td>\n",
              "      <td>3.856</td>\n",
              "      <td>3.8060</td>\n",
              "      <td>3.8640</td>\n",
              "      <td>4.0700</td>\n",
              "      <td>3.8880</td>\n",
              "      <td>3.9140</td>\n",
              "    </tr>\n",
              "  </tbody>\n",
              "</table>\n",
              "<p>10 rows × 743 columns</p>\n",
              "</div>"
            ],
            "text/plain": [
              "                         0       1        2       3       4        5    \\\n",
              "A2A                   1.3045   1.331   1.3175   1.340   1.340   1.3375   \n",
              "ABITARE IN            4.8100   4.830   4.7100   4.860   4.860   4.8300   \n",
              "ACEA                 17.1500  17.180  17.0100  17.310  17.070  17.2200   \n",
              "AEFFE                 1.1040   1.086   1.0700   1.118   1.152   1.1640   \n",
              "AEROP GUGL MARCO      8.4800   8.360   8.5200   8.520   8.460   8.3400   \n",
              "ALERION CLEAN POWER  10.6000  12.850  15.0000  14.900  14.950  14.6500   \n",
              "ALGOWATT              0.3420   0.341   0.3400   0.344   0.338   0.3430   \n",
              "ALKEMY                7.0800   7.040   6.9200   6.900   6.840   7.1000   \n",
              "AMPLIFON             34.0400  33.940  33.5600  33.020  32.680  33.8400   \n",
              "ANIMA HOLDING         3.8820   3.926   3.9040   4.034   4.080   4.1140   \n",
              "\n",
              "                         6       7       8       9    ...     733      734  \\\n",
              "A2A                   1.3315   1.305   1.335   1.328  ...   1.730   1.7535   \n",
              "ABITARE IN            4.8600   4.900   4.920   4.910  ...   5.180   5.1800   \n",
              "ACEA                 17.2500  17.240  17.360  17.390  ...  11.100  11.0000   \n",
              "AEFFE                 1.1220   1.102   1.110   1.112  ...   0.734   0.7310   \n",
              "AEROP GUGL MARCO      8.5000   8.500   8.240   8.380  ...   8.060   8.0200   \n",
              "ALERION CLEAN POWER  13.7000  13.800  13.600  12.950  ...  23.300  22.4500   \n",
              "ALGOWATT              0.3440   0.340   0.340   0.337  ...   0.330   0.3200   \n",
              "ALKEMY                7.0000   7.000   6.940   6.880  ...   7.260   7.1400   \n",
              "AMPLIFON             33.6800  33.620  33.910  34.160  ...  27.290  26.8400   \n",
              "ANIMA HOLDING         4.1600   4.220   4.142   4.092  ...   3.816   3.8320   \n",
              "\n",
              "                         735      736     737      738      739      740  \\\n",
              "A2A                   1.7465   1.7575   1.771   1.7970   1.7925   1.7915   \n",
              "ABITARE IN            5.1400   5.0400   5.000   5.0600   5.0800   5.1800   \n",
              "ACEA                 11.0000  11.2700  11.370  11.5900  11.6700  11.8500   \n",
              "AEFFE                 0.7330   0.7440   0.745   0.7420   0.8000   0.8050   \n",
              "AEROP GUGL MARCO      8.1000   8.1200   8.100   8.1400   8.1200   8.1200   \n",
              "ALERION CLEAN POWER  22.7000  22.8500  23.350  23.2000  23.7000  23.9000   \n",
              "ALGOWATT              0.3130   0.3130   0.313   0.3155   0.3205   0.3200   \n",
              "ALKEMY                6.9500   6.8000   7.000   7.1000   7.2200   7.3100   \n",
              "AMPLIFON             25.7600  25.3800  26.640  26.5000  27.5300  27.7000   \n",
              "ANIMA HOLDING         3.8400   3.8280   3.856   3.8060   3.8640   4.0700   \n",
              "\n",
              "                         741      742  \n",
              "A2A                   1.7895   1.7865  \n",
              "ABITARE IN            5.0600   5.0000  \n",
              "ACEA                 11.6100  11.4500  \n",
              "AEFFE                 0.8140   0.8190  \n",
              "AEROP GUGL MARCO      8.0800   8.0200  \n",
              "ALERION CLEAN POWER  23.4000  23.6000  \n",
              "ALGOWATT              0.3150   0.3130  \n",
              "ALKEMY                7.2200   7.3700  \n",
              "AMPLIFON             27.7600  27.6400  \n",
              "ANIMA HOLDING         3.8880   3.9140  \n",
              "\n",
              "[10 rows x 743 columns]"
            ]
          },
          "execution_count": 163,
          "metadata": {},
          "output_type": "execute_result"
        }
      ],
      "source": [
        "df = pd.read_csv('Prices.csv').transpose()\n",
        "df.head(10)"
      ]
    },
    {
      "cell_type": "code",
      "execution_count": 155,
      "metadata": {},
      "outputs": [
        {
          "name": "stdout",
          "output_type": "stream",
          "text": [
            "<class 'numpy.float64'>\n"
          ]
        }
      ],
      "source": [
        "print(type(df[1][5]))"
      ]
    },
    {
      "cell_type": "code",
      "execution_count": 156,
      "metadata": {
        "colab": {
          "base_uri": "https://localhost:8080/"
        },
        "id": "6dSYxjjLnObC",
        "outputId": "5deb5bfa-bb39-4cd4-8de3-77edca974297"
      },
      "outputs": [
        {
          "name": "stdout",
          "output_type": "stream",
          "text": [
            "(185, 743)\n"
          ]
        }
      ],
      "source": [
        "print(df.shape)"
      ]
    },
    {
      "cell_type": "code",
      "execution_count": 157,
      "metadata": {
        "id": "3dJADakiv1P4"
      },
      "outputs": [],
      "source": [
        "#Create a column Daily_price that contains the list of prices for each stock\n",
        "\n",
        "df[\"Daily_price\"] = df.apply(lambda row: row.tolist(), axis=1)"
      ]
    },
    {
      "cell_type": "code",
      "execution_count": 158,
      "metadata": {
        "id": "ZQdZgyCY9rW0"
      },
      "outputs": [],
      "source": [
        "#Define the logarithm of return\n",
        "\n",
        "def Returns(prices):\n",
        "  log_returns = []\n",
        "  for i in range(1,len(prices)):\n",
        "    log_returns.append(np.log(prices[i]/prices[i-1]))\n",
        "\n",
        "  return log_returns"
      ]
    },
    {
      "cell_type": "code",
      "execution_count": 159,
      "metadata": {
        "id": "PSqdXP37AVMC"
      },
      "outputs": [],
      "source": [
        "#Create a column Log_return that contains the list of returns for each stock\n",
        "\n",
        "df['Log_return'] = df['Daily_price'].apply(Returns)"
      ]
    },
    {
      "cell_type": "code",
      "execution_count": 160,
      "metadata": {
        "colab": {
          "base_uri": "https://localhost:8080/",
          "height": 898
        },
        "id": "9DvIvgGnAo4a",
        "outputId": "d2501548-12a7-40b5-8069-63b11905a635"
      },
      "outputs": [
        {
          "data": {
            "text/html": [
              "<div>\n",
              "<style scoped>\n",
              "    .dataframe tbody tr th:only-of-type {\n",
              "        vertical-align: middle;\n",
              "    }\n",
              "\n",
              "    .dataframe tbody tr th {\n",
              "        vertical-align: top;\n",
              "    }\n",
              "\n",
              "    .dataframe thead th {\n",
              "        text-align: right;\n",
              "    }\n",
              "</style>\n",
              "<table border=\"1\" class=\"dataframe\">\n",
              "  <thead>\n",
              "    <tr style=\"text-align: right;\">\n",
              "      <th></th>\n",
              "      <th>0</th>\n",
              "      <th>1</th>\n",
              "      <th>2</th>\n",
              "      <th>3</th>\n",
              "      <th>4</th>\n",
              "      <th>5</th>\n",
              "      <th>6</th>\n",
              "      <th>7</th>\n",
              "      <th>8</th>\n",
              "      <th>9</th>\n",
              "      <th>...</th>\n",
              "      <th>735</th>\n",
              "      <th>736</th>\n",
              "      <th>737</th>\n",
              "      <th>738</th>\n",
              "      <th>739</th>\n",
              "      <th>740</th>\n",
              "      <th>741</th>\n",
              "      <th>742</th>\n",
              "      <th>Daily_price</th>\n",
              "      <th>Log_return</th>\n",
              "    </tr>\n",
              "  </thead>\n",
              "  <tbody>\n",
              "    <tr>\n",
              "      <th>A2A</th>\n",
              "      <td>1.3045</td>\n",
              "      <td>1.331</td>\n",
              "      <td>1.3175</td>\n",
              "      <td>1.340</td>\n",
              "      <td>1.340</td>\n",
              "      <td>1.3375</td>\n",
              "      <td>1.3315</td>\n",
              "      <td>1.305</td>\n",
              "      <td>1.335</td>\n",
              "      <td>1.328</td>\n",
              "      <td>...</td>\n",
              "      <td>1.7465</td>\n",
              "      <td>1.7575</td>\n",
              "      <td>1.771</td>\n",
              "      <td>1.7970</td>\n",
              "      <td>1.7925</td>\n",
              "      <td>1.7915</td>\n",
              "      <td>1.7895</td>\n",
              "      <td>1.7865</td>\n",
              "      <td>[1.3045, 1.331, 1.3175, 1.34, 1.34, 1.3375, 1....</td>\n",
              "      <td>[0.020110713818328557, -0.010194537979594277, ...</td>\n",
              "    </tr>\n",
              "    <tr>\n",
              "      <th>ABITARE IN</th>\n",
              "      <td>4.8100</td>\n",
              "      <td>4.830</td>\n",
              "      <td>4.7100</td>\n",
              "      <td>4.860</td>\n",
              "      <td>4.860</td>\n",
              "      <td>4.8300</td>\n",
              "      <td>4.8600</td>\n",
              "      <td>4.900</td>\n",
              "      <td>4.920</td>\n",
              "      <td>4.910</td>\n",
              "      <td>...</td>\n",
              "      <td>5.1400</td>\n",
              "      <td>5.0400</td>\n",
              "      <td>5.000</td>\n",
              "      <td>5.0600</td>\n",
              "      <td>5.0800</td>\n",
              "      <td>5.1800</td>\n",
              "      <td>5.0600</td>\n",
              "      <td>5.0000</td>\n",
              "      <td>[4.81, 4.83, 4.71, 4.86, 4.86, 4.83, 4.86, 4.9...</td>\n",
              "      <td>[0.004149383546811618, -0.025158559636154987, ...</td>\n",
              "    </tr>\n",
              "    <tr>\n",
              "      <th>ACEA</th>\n",
              "      <td>17.1500</td>\n",
              "      <td>17.180</td>\n",
              "      <td>17.0100</td>\n",
              "      <td>17.310</td>\n",
              "      <td>17.070</td>\n",
              "      <td>17.2200</td>\n",
              "      <td>17.2500</td>\n",
              "      <td>17.240</td>\n",
              "      <td>17.360</td>\n",
              "      <td>17.390</td>\n",
              "      <td>...</td>\n",
              "      <td>11.0000</td>\n",
              "      <td>11.2700</td>\n",
              "      <td>11.370</td>\n",
              "      <td>11.5900</td>\n",
              "      <td>11.6700</td>\n",
              "      <td>11.8500</td>\n",
              "      <td>11.6100</td>\n",
              "      <td>11.4500</td>\n",
              "      <td>[17.15, 17.18, 17.01, 17.31, 17.07, 17.22, 17....</td>\n",
              "      <td>[0.0017477429441605384, -0.00994451014833884, ...</td>\n",
              "    </tr>\n",
              "    <tr>\n",
              "      <th>AEFFE</th>\n",
              "      <td>1.1040</td>\n",
              "      <td>1.086</td>\n",
              "      <td>1.0700</td>\n",
              "      <td>1.118</td>\n",
              "      <td>1.152</td>\n",
              "      <td>1.1640</td>\n",
              "      <td>1.1220</td>\n",
              "      <td>1.102</td>\n",
              "      <td>1.110</td>\n",
              "      <td>1.112</td>\n",
              "      <td>...</td>\n",
              "      <td>0.7330</td>\n",
              "      <td>0.7440</td>\n",
              "      <td>0.745</td>\n",
              "      <td>0.7420</td>\n",
              "      <td>0.8000</td>\n",
              "      <td>0.8050</td>\n",
              "      <td>0.8140</td>\n",
              "      <td>0.8190</td>\n",
              "      <td>[1.104, 1.086, 1.07, 1.118, 1.152, 1.164, 1.12...</td>\n",
              "      <td>[-0.016438726343159835, -0.014842573037928852,...</td>\n",
              "    </tr>\n",
              "    <tr>\n",
              "      <th>AEROP GUGL MARCO</th>\n",
              "      <td>8.4800</td>\n",
              "      <td>8.360</td>\n",
              "      <td>8.5200</td>\n",
              "      <td>8.520</td>\n",
              "      <td>8.460</td>\n",
              "      <td>8.3400</td>\n",
              "      <td>8.5000</td>\n",
              "      <td>8.500</td>\n",
              "      <td>8.240</td>\n",
              "      <td>8.380</td>\n",
              "      <td>...</td>\n",
              "      <td>8.1000</td>\n",
              "      <td>8.1200</td>\n",
              "      <td>8.100</td>\n",
              "      <td>8.1400</td>\n",
              "      <td>8.1200</td>\n",
              "      <td>8.1200</td>\n",
              "      <td>8.0800</td>\n",
              "      <td>8.0200</td>\n",
              "      <td>[8.48, 8.36, 8.52, 8.52, 8.46, 8.34, 8.5, 8.5,...</td>\n",
              "      <td>[-0.014252022707201615, 0.018957913744614207, ...</td>\n",
              "    </tr>\n",
              "    <tr>\n",
              "      <th>ALERION CLEAN POWER</th>\n",
              "      <td>10.6000</td>\n",
              "      <td>12.850</td>\n",
              "      <td>15.0000</td>\n",
              "      <td>14.900</td>\n",
              "      <td>14.950</td>\n",
              "      <td>14.6500</td>\n",
              "      <td>13.7000</td>\n",
              "      <td>13.800</td>\n",
              "      <td>13.600</td>\n",
              "      <td>12.950</td>\n",
              "      <td>...</td>\n",
              "      <td>22.7000</td>\n",
              "      <td>22.8500</td>\n",
              "      <td>23.350</td>\n",
              "      <td>23.2000</td>\n",
              "      <td>23.7000</td>\n",
              "      <td>23.9000</td>\n",
              "      <td>23.4000</td>\n",
              "      <td>23.6000</td>\n",
              "      <td>[10.6, 12.85, 15.0, 14.9, 14.95, 14.65, 13.7, ...</td>\n",
              "      <td>[0.19248981022320735, 0.15470638976098133, -0....</td>\n",
              "    </tr>\n",
              "    <tr>\n",
              "      <th>ALGOWATT</th>\n",
              "      <td>0.3420</td>\n",
              "      <td>0.341</td>\n",
              "      <td>0.3400</td>\n",
              "      <td>0.344</td>\n",
              "      <td>0.338</td>\n",
              "      <td>0.3430</td>\n",
              "      <td>0.3440</td>\n",
              "      <td>0.340</td>\n",
              "      <td>0.340</td>\n",
              "      <td>0.337</td>\n",
              "      <td>...</td>\n",
              "      <td>0.3130</td>\n",
              "      <td>0.3130</td>\n",
              "      <td>0.313</td>\n",
              "      <td>0.3155</td>\n",
              "      <td>0.3205</td>\n",
              "      <td>0.3200</td>\n",
              "      <td>0.3150</td>\n",
              "      <td>0.3130</td>\n",
              "      <td>[0.342, 0.341, 0.34, 0.344, 0.338, 0.343, 0.34...</td>\n",
              "      <td>[-0.002928259779088334, -0.0029368596733097135...</td>\n",
              "    </tr>\n",
              "    <tr>\n",
              "      <th>ALKEMY</th>\n",
              "      <td>7.0800</td>\n",
              "      <td>7.040</td>\n",
              "      <td>6.9200</td>\n",
              "      <td>6.900</td>\n",
              "      <td>6.840</td>\n",
              "      <td>7.1000</td>\n",
              "      <td>7.0000</td>\n",
              "      <td>7.000</td>\n",
              "      <td>6.940</td>\n",
              "      <td>6.880</td>\n",
              "      <td>...</td>\n",
              "      <td>6.9500</td>\n",
              "      <td>6.8000</td>\n",
              "      <td>7.000</td>\n",
              "      <td>7.1000</td>\n",
              "      <td>7.2200</td>\n",
              "      <td>7.3100</td>\n",
              "      <td>7.2200</td>\n",
              "      <td>7.3700</td>\n",
              "      <td>[7.08, 7.04, 6.92, 6.9, 6.84, 7.1, 7.0, 7.0, 6...</td>\n",
              "      <td>[-0.00566573753567742, -0.017192400540372875, ...</td>\n",
              "    </tr>\n",
              "    <tr>\n",
              "      <th>AMPLIFON</th>\n",
              "      <td>34.0400</td>\n",
              "      <td>33.940</td>\n",
              "      <td>33.5600</td>\n",
              "      <td>33.020</td>\n",
              "      <td>32.680</td>\n",
              "      <td>33.8400</td>\n",
              "      <td>33.6800</td>\n",
              "      <td>33.620</td>\n",
              "      <td>33.910</td>\n",
              "      <td>34.160</td>\n",
              "      <td>...</td>\n",
              "      <td>25.7600</td>\n",
              "      <td>25.3800</td>\n",
              "      <td>26.640</td>\n",
              "      <td>26.5000</td>\n",
              "      <td>27.5300</td>\n",
              "      <td>27.7000</td>\n",
              "      <td>27.7600</td>\n",
              "      <td>27.6400</td>\n",
              "      <td>[34.04, 33.94, 33.56, 33.02, 32.68, 33.84, 33....</td>\n",
              "      <td>[-0.0029420438990931815, -0.011259378207074639...</td>\n",
              "    </tr>\n",
              "    <tr>\n",
              "      <th>ANIMA HOLDING</th>\n",
              "      <td>3.8820</td>\n",
              "      <td>3.926</td>\n",
              "      <td>3.9040</td>\n",
              "      <td>4.034</td>\n",
              "      <td>4.080</td>\n",
              "      <td>4.1140</td>\n",
              "      <td>4.1600</td>\n",
              "      <td>4.220</td>\n",
              "      <td>4.142</td>\n",
              "      <td>4.092</td>\n",
              "      <td>...</td>\n",
              "      <td>3.8400</td>\n",
              "      <td>3.8280</td>\n",
              "      <td>3.856</td>\n",
              "      <td>3.8060</td>\n",
              "      <td>3.8640</td>\n",
              "      <td>4.0700</td>\n",
              "      <td>3.8880</td>\n",
              "      <td>3.9140</td>\n",
              "      <td>[3.882, 3.926, 3.904, 4.034, 4.08, 4.114, 4.16...</td>\n",
              "      <td>[0.011270611107450791, -0.0056194273034232975,...</td>\n",
              "    </tr>\n",
              "  </tbody>\n",
              "</table>\n",
              "<p>10 rows × 745 columns</p>\n",
              "</div>"
            ],
            "text/plain": [
              "                           0       1        2       3       4        5  \\\n",
              "A2A                   1.3045   1.331   1.3175   1.340   1.340   1.3375   \n",
              "ABITARE IN            4.8100   4.830   4.7100   4.860   4.860   4.8300   \n",
              "ACEA                 17.1500  17.180  17.0100  17.310  17.070  17.2200   \n",
              "AEFFE                 1.1040   1.086   1.0700   1.118   1.152   1.1640   \n",
              "AEROP GUGL MARCO      8.4800   8.360   8.5200   8.520   8.460   8.3400   \n",
              "ALERION CLEAN POWER  10.6000  12.850  15.0000  14.900  14.950  14.6500   \n",
              "ALGOWATT              0.3420   0.341   0.3400   0.344   0.338   0.3430   \n",
              "ALKEMY                7.0800   7.040   6.9200   6.900   6.840   7.1000   \n",
              "AMPLIFON             34.0400  33.940  33.5600  33.020  32.680  33.8400   \n",
              "ANIMA HOLDING         3.8820   3.926   3.9040   4.034   4.080   4.1140   \n",
              "\n",
              "                           6       7       8       9  ...      735      736  \\\n",
              "A2A                   1.3315   1.305   1.335   1.328  ...   1.7465   1.7575   \n",
              "ABITARE IN            4.8600   4.900   4.920   4.910  ...   5.1400   5.0400   \n",
              "ACEA                 17.2500  17.240  17.360  17.390  ...  11.0000  11.2700   \n",
              "AEFFE                 1.1220   1.102   1.110   1.112  ...   0.7330   0.7440   \n",
              "AEROP GUGL MARCO      8.5000   8.500   8.240   8.380  ...   8.1000   8.1200   \n",
              "ALERION CLEAN POWER  13.7000  13.800  13.600  12.950  ...  22.7000  22.8500   \n",
              "ALGOWATT              0.3440   0.340   0.340   0.337  ...   0.3130   0.3130   \n",
              "ALKEMY                7.0000   7.000   6.940   6.880  ...   6.9500   6.8000   \n",
              "AMPLIFON             33.6800  33.620  33.910  34.160  ...  25.7600  25.3800   \n",
              "ANIMA HOLDING         4.1600   4.220   4.142   4.092  ...   3.8400   3.8280   \n",
              "\n",
              "                        737      738      739      740      741      742  \\\n",
              "A2A                   1.771   1.7970   1.7925   1.7915   1.7895   1.7865   \n",
              "ABITARE IN            5.000   5.0600   5.0800   5.1800   5.0600   5.0000   \n",
              "ACEA                 11.370  11.5900  11.6700  11.8500  11.6100  11.4500   \n",
              "AEFFE                 0.745   0.7420   0.8000   0.8050   0.8140   0.8190   \n",
              "AEROP GUGL MARCO      8.100   8.1400   8.1200   8.1200   8.0800   8.0200   \n",
              "ALERION CLEAN POWER  23.350  23.2000  23.7000  23.9000  23.4000  23.6000   \n",
              "ALGOWATT              0.313   0.3155   0.3205   0.3200   0.3150   0.3130   \n",
              "ALKEMY                7.000   7.1000   7.2200   7.3100   7.2200   7.3700   \n",
              "AMPLIFON             26.640  26.5000  27.5300  27.7000  27.7600  27.6400   \n",
              "ANIMA HOLDING         3.856   3.8060   3.8640   4.0700   3.8880   3.9140   \n",
              "\n",
              "                                                           Daily_price  \\\n",
              "A2A                  [1.3045, 1.331, 1.3175, 1.34, 1.34, 1.3375, 1....   \n",
              "ABITARE IN           [4.81, 4.83, 4.71, 4.86, 4.86, 4.83, 4.86, 4.9...   \n",
              "ACEA                 [17.15, 17.18, 17.01, 17.31, 17.07, 17.22, 17....   \n",
              "AEFFE                [1.104, 1.086, 1.07, 1.118, 1.152, 1.164, 1.12...   \n",
              "AEROP GUGL MARCO     [8.48, 8.36, 8.52, 8.52, 8.46, 8.34, 8.5, 8.5,...   \n",
              "ALERION CLEAN POWER  [10.6, 12.85, 15.0, 14.9, 14.95, 14.65, 13.7, ...   \n",
              "ALGOWATT             [0.342, 0.341, 0.34, 0.344, 0.338, 0.343, 0.34...   \n",
              "ALKEMY               [7.08, 7.04, 6.92, 6.9, 6.84, 7.1, 7.0, 7.0, 6...   \n",
              "AMPLIFON             [34.04, 33.94, 33.56, 33.02, 32.68, 33.84, 33....   \n",
              "ANIMA HOLDING        [3.882, 3.926, 3.904, 4.034, 4.08, 4.114, 4.16...   \n",
              "\n",
              "                                                            Log_return  \n",
              "A2A                  [0.020110713818328557, -0.010194537979594277, ...  \n",
              "ABITARE IN           [0.004149383546811618, -0.025158559636154987, ...  \n",
              "ACEA                 [0.0017477429441605384, -0.00994451014833884, ...  \n",
              "AEFFE                [-0.016438726343159835, -0.014842573037928852,...  \n",
              "AEROP GUGL MARCO     [-0.014252022707201615, 0.018957913744614207, ...  \n",
              "ALERION CLEAN POWER  [0.19248981022320735, 0.15470638976098133, -0....  \n",
              "ALGOWATT             [-0.002928259779088334, -0.0029368596733097135...  \n",
              "ALKEMY               [-0.00566573753567742, -0.017192400540372875, ...  \n",
              "AMPLIFON             [-0.0029420438990931815, -0.011259378207074639...  \n",
              "ANIMA HOLDING        [0.011270611107450791, -0.0056194273034232975,...  \n",
              "\n",
              "[10 rows x 745 columns]"
            ]
          },
          "execution_count": 160,
          "metadata": {},
          "output_type": "execute_result"
        }
      ],
      "source": [
        "df.head(10)"
      ]
    },
    {
      "cell_type": "code",
      "execution_count": 161,
      "metadata": {
        "id": "q9JeNOVDBLZt"
      },
      "outputs": [],
      "source": [
        "#We don't need more all these columns\n",
        "\n",
        "df.drop(columns=[i for i in range(0,743)],inplace=True)"
      ]
    },
    {
      "cell_type": "code",
      "execution_count": 162,
      "metadata": {
        "colab": {
          "base_uri": "https://localhost:8080/",
          "height": 374
        },
        "id": "m9WgLNuFBZwW",
        "outputId": "8f71b772-d02f-4345-9d9e-c16f1eb98693"
      },
      "outputs": [
        {
          "data": {
            "text/html": [
              "<div>\n",
              "<style scoped>\n",
              "    .dataframe tbody tr th:only-of-type {\n",
              "        vertical-align: middle;\n",
              "    }\n",
              "\n",
              "    .dataframe tbody tr th {\n",
              "        vertical-align: top;\n",
              "    }\n",
              "\n",
              "    .dataframe thead th {\n",
              "        text-align: right;\n",
              "    }\n",
              "</style>\n",
              "<table border=\"1\" class=\"dataframe\">\n",
              "  <thead>\n",
              "    <tr style=\"text-align: right;\">\n",
              "      <th></th>\n",
              "      <th>Daily_price</th>\n",
              "      <th>Log_return</th>\n",
              "    </tr>\n",
              "  </thead>\n",
              "  <tbody>\n",
              "    <tr>\n",
              "      <th>A2A</th>\n",
              "      <td>[1.3045, 1.331, 1.3175, 1.34, 1.34, 1.3375, 1....</td>\n",
              "      <td>[0.020110713818328557, -0.010194537979594277, ...</td>\n",
              "    </tr>\n",
              "    <tr>\n",
              "      <th>ABITARE IN</th>\n",
              "      <td>[4.81, 4.83, 4.71, 4.86, 4.86, 4.83, 4.86, 4.9...</td>\n",
              "      <td>[0.004149383546811618, -0.025158559636154987, ...</td>\n",
              "    </tr>\n",
              "    <tr>\n",
              "      <th>ACEA</th>\n",
              "      <td>[17.15, 17.18, 17.01, 17.31, 17.07, 17.22, 17....</td>\n",
              "      <td>[0.0017477429441605384, -0.00994451014833884, ...</td>\n",
              "    </tr>\n",
              "    <tr>\n",
              "      <th>AEFFE</th>\n",
              "      <td>[1.104, 1.086, 1.07, 1.118, 1.152, 1.164, 1.12...</td>\n",
              "      <td>[-0.016438726343159835, -0.014842573037928852,...</td>\n",
              "    </tr>\n",
              "    <tr>\n",
              "      <th>AEROP GUGL MARCO</th>\n",
              "      <td>[8.48, 8.36, 8.52, 8.52, 8.46, 8.34, 8.5, 8.5,...</td>\n",
              "      <td>[-0.014252022707201615, 0.018957913744614207, ...</td>\n",
              "    </tr>\n",
              "    <tr>\n",
              "      <th>ALERION CLEAN POWER</th>\n",
              "      <td>[10.6, 12.85, 15.0, 14.9, 14.95, 14.65, 13.7, ...</td>\n",
              "      <td>[0.19248981022320735, 0.15470638976098133, -0....</td>\n",
              "    </tr>\n",
              "    <tr>\n",
              "      <th>ALGOWATT</th>\n",
              "      <td>[0.342, 0.341, 0.34, 0.344, 0.338, 0.343, 0.34...</td>\n",
              "      <td>[-0.002928259779088334, -0.0029368596733097135...</td>\n",
              "    </tr>\n",
              "    <tr>\n",
              "      <th>ALKEMY</th>\n",
              "      <td>[7.08, 7.04, 6.92, 6.9, 6.84, 7.1, 7.0, 7.0, 6...</td>\n",
              "      <td>[-0.00566573753567742, -0.017192400540372875, ...</td>\n",
              "    </tr>\n",
              "    <tr>\n",
              "      <th>AMPLIFON</th>\n",
              "      <td>[34.04, 33.94, 33.56, 33.02, 32.68, 33.84, 33....</td>\n",
              "      <td>[-0.0029420438990931815, -0.011259378207074639...</td>\n",
              "    </tr>\n",
              "    <tr>\n",
              "      <th>ANIMA HOLDING</th>\n",
              "      <td>[3.882, 3.926, 3.904, 4.034, 4.08, 4.114, 4.16...</td>\n",
              "      <td>[0.011270611107450791, -0.0056194273034232975,...</td>\n",
              "    </tr>\n",
              "  </tbody>\n",
              "</table>\n",
              "</div>"
            ],
            "text/plain": [
              "                                                           Daily_price  \\\n",
              "A2A                  [1.3045, 1.331, 1.3175, 1.34, 1.34, 1.3375, 1....   \n",
              "ABITARE IN           [4.81, 4.83, 4.71, 4.86, 4.86, 4.83, 4.86, 4.9...   \n",
              "ACEA                 [17.15, 17.18, 17.01, 17.31, 17.07, 17.22, 17....   \n",
              "AEFFE                [1.104, 1.086, 1.07, 1.118, 1.152, 1.164, 1.12...   \n",
              "AEROP GUGL MARCO     [8.48, 8.36, 8.52, 8.52, 8.46, 8.34, 8.5, 8.5,...   \n",
              "ALERION CLEAN POWER  [10.6, 12.85, 15.0, 14.9, 14.95, 14.65, 13.7, ...   \n",
              "ALGOWATT             [0.342, 0.341, 0.34, 0.344, 0.338, 0.343, 0.34...   \n",
              "ALKEMY               [7.08, 7.04, 6.92, 6.9, 6.84, 7.1, 7.0, 7.0, 6...   \n",
              "AMPLIFON             [34.04, 33.94, 33.56, 33.02, 32.68, 33.84, 33....   \n",
              "ANIMA HOLDING        [3.882, 3.926, 3.904, 4.034, 4.08, 4.114, 4.16...   \n",
              "\n",
              "                                                            Log_return  \n",
              "A2A                  [0.020110713818328557, -0.010194537979594277, ...  \n",
              "ABITARE IN           [0.004149383546811618, -0.025158559636154987, ...  \n",
              "ACEA                 [0.0017477429441605384, -0.00994451014833884, ...  \n",
              "AEFFE                [-0.016438726343159835, -0.014842573037928852,...  \n",
              "AEROP GUGL MARCO     [-0.014252022707201615, 0.018957913744614207, ...  \n",
              "ALERION CLEAN POWER  [0.19248981022320735, 0.15470638976098133, -0....  \n",
              "ALGOWATT             [-0.002928259779088334, -0.0029368596733097135...  \n",
              "ALKEMY               [-0.00566573753567742, -0.017192400540372875, ...  \n",
              "AMPLIFON             [-0.0029420438990931815, -0.011259378207074639...  \n",
              "ANIMA HOLDING        [0.011270611107450791, -0.0056194273034232975,...  "
            ]
          },
          "execution_count": 162,
          "metadata": {},
          "output_type": "execute_result"
        }
      ],
      "source": [
        "#Now the Dataframe looks...\n",
        "\n",
        "df.head(10)"
      ]
    },
    {
      "cell_type": "code",
      "execution_count": 151,
      "metadata": {},
      "outputs": [
        {
          "data": {
            "image/png": "[encoded data removed]",
            "text/plain": [
              "<Figure size 640x480 with 1 Axes>"
            ]
          },
          "metadata": {},
          "output_type": "display_data"
        }
      ],
      "source": [
        "#Let's inspect the distribution of log returns\n",
        "\n",
        "#daily_returns = df[\"Log_return\"].apply(lambda x: x).sum()\n",
        "daily_returns_all = [item for sublist in df['Log_return'] for item in sublist]\n",
        "\n",
        "plt.hist(daily_returns_all, bins=50, edgecolor='black')\n",
        "plt.xlabel('Log return')\n",
        "plt.ylabel('Count')\n",
        "plt.title('Log returns distribution')\n",
        "plt.show()"
      ]
    },
    {
      "cell_type": "code",
      "execution_count": 152,
      "metadata": {
        "id": "b2vfqTxjKEkg"
      },
      "outputs": [],
      "source": [
        "#Define the Pearson correlation coefficient\n",
        "from scipy.stats import kendalltau\n",
        "def correlation_coefficient(lista1, lista2):\n",
        "    return np.corrcoef(lista1, lista2)[0, 1]\n",
        "\n",
        "def correlation_in_windows(series1, series2, window_size):\n",
        "    num_windows = len(series1) // window_size\n",
        "    correlations = []\n",
        "\n",
        "    for i in range(num_windows):\n",
        "        start_idx = i * window_size\n",
        "        end_idx = start_idx + window_size\n",
        "\n",
        "        window1 = series1[start_idx:end_idx]\n",
        "        window2 = series2[start_idx:end_idx]\n",
        "\n",
        "        correlation = np.corrcoef(window1, window2)[0, 1]\n",
        "        correlations.append(correlation)\n",
        "\n",
        "    return np.sum(correlations)/len(correlations)"
      ]
    },
    {
      "cell_type": "code",
      "execution_count": 153,
      "metadata": {
        "colab": {
          "base_uri": "https://localhost:8080/"
        },
        "id": "UBsQ_6mDMsQg",
        "outputId": "1e4325f5-8fb7-4a93-9d7b-15fa5283ae85"
      },
      "outputs": [
        {
          "name": "stderr",
          "output_type": "stream",
          "text": [
            "  1%|          | 125/17020 [00:05<11:34, 24.33it/s]/Library/Frameworks/Python.framework/Versions/3.9/lib/python3.9/site-packages/numpy/lib/function_base.py:2853: RuntimeWarning: invalid value encountered in divide\n",
            "  c /= stddev[:, None]\n",
            "/Library/Frameworks/Python.framework/Versions/3.9/lib/python3.9/site-packages/numpy/lib/function_base.py:2854: RuntimeWarning: invalid value encountered in divide\n",
            "  c /= stddev[None, :]\n",
            " 54%|█████▍    | 9156/17020 [06:17<05:24, 24.26it/s]\n"
          ]
        },
        {
          "ename": "KeyboardInterrupt",
          "evalue": "",
          "output_type": "error",
          "traceback": [
            "\u001b[0;31m---------------------------------------------------------------------------\u001b[0m",
            "\u001b[0;31mKeyboardInterrupt\u001b[0m                         Traceback (most recent call last)",
            "\u001b[1;32m/Users/niccolomarzi/Università/AI/SNA/Financial-Network-Analysis/SNA_project.ipynb Cella 13\u001b[0m line \u001b[0;36m1\n\u001b[1;32m     <a href='vscode-notebook-cell:/Users/niccolomarzi/Universit%C3%A0/AI/SNA/Financial-Network-Analysis/SNA_project.ipynb#X15sZmlsZQ%3D%3D?line=10'>11</a>\u001b[0m \u001b[39mfor\u001b[39;00m list1, list2 \u001b[39min\u001b[39;00m tqdm(couples):\n\u001b[1;32m     <a href='vscode-notebook-cell:/Users/niccolomarzi/Universit%C3%A0/AI/SNA/Financial-Network-Analysis/SNA_project.ipynb#X15sZmlsZQ%3D%3D?line=11'>12</a>\u001b[0m     \u001b[39m#coeff = correlation_coefficient(list1, list2)\u001b[39;00m\n\u001b[1;32m     <a href='vscode-notebook-cell:/Users/niccolomarzi/Universit%C3%A0/AI/SNA/Financial-Network-Analysis/SNA_project.ipynb#X15sZmlsZQ%3D%3D?line=12'>13</a>\u001b[0m     coeff \u001b[39m=\u001b[39m correlation_in_windows(list1, list2, \u001b[39m63\u001b[39m)\n\u001b[0;32m---> <a href='vscode-notebook-cell:/Users/niccolomarzi/Universit%C3%A0/AI/SNA/Financial-Network-Analysis/SNA_project.ipynb#X15sZmlsZQ%3D%3D?line=13'>14</a>\u001b[0m     idx_list1 \u001b[39m=\u001b[39m df\u001b[39m.\u001b[39mindex[df[\u001b[39m'\u001b[39;49m\u001b[39mLog_return\u001b[39;49m\u001b[39m'\u001b[39;49m]\u001b[39m.\u001b[39;49mapply(\u001b[39mlambda\u001b[39;49;00m x: np\u001b[39m.\u001b[39;49marray_equal(x, list1))]\u001b[39m.\u001b[39mtolist()[\u001b[39m0\u001b[39m]\n\u001b[1;32m     <a href='vscode-notebook-cell:/Users/niccolomarzi/Universit%C3%A0/AI/SNA/Financial-Network-Analysis/SNA_project.ipynb#X15sZmlsZQ%3D%3D?line=14'>15</a>\u001b[0m     idx_list2 \u001b[39m=\u001b[39m df\u001b[39m.\u001b[39mindex[df[\u001b[39m'\u001b[39m\u001b[39mLog_return\u001b[39m\u001b[39m'\u001b[39m]\u001b[39m.\u001b[39mapply(\u001b[39mlambda\u001b[39;00m x: np\u001b[39m.\u001b[39marray_equal(x, list2))]\u001b[39m.\u001b[39mtolist()[\u001b[39m0\u001b[39m]\n\u001b[1;32m     <a href='vscode-notebook-cell:/Users/niccolomarzi/Universit%C3%A0/AI/SNA/Financial-Network-Analysis/SNA_project.ipynb#X15sZmlsZQ%3D%3D?line=15'>16</a>\u001b[0m     df\u001b[39m.\u001b[39mat[idx_list1, \u001b[39m'\u001b[39m\u001b[39mCorrelation_coefficients\u001b[39m\u001b[39m'\u001b[39m][\u001b[39mf\u001b[39m\u001b[39m'\u001b[39m\u001b[39m{\u001b[39;00midx_list2\u001b[39m}\u001b[39;00m\u001b[39m'\u001b[39m] \u001b[39m=\u001b[39m coeff\n",
            "File \u001b[0;32m/Library/Frameworks/Python.framework/Versions/3.9/lib/python3.9/site-packages/pandas/core/series.py:4774\u001b[0m, in \u001b[0;36mSeries.apply\u001b[0;34m(self, func, convert_dtype, args, **kwargs)\u001b[0m\n\u001b[1;32m   4664\u001b[0m \u001b[39mdef\u001b[39;00m \u001b[39mapply\u001b[39m(\n\u001b[1;32m   4665\u001b[0m     \u001b[39mself\u001b[39m,\n\u001b[1;32m   4666\u001b[0m     func: AggFuncType,\n\u001b[0;32m   (...)\u001b[0m\n\u001b[1;32m   4669\u001b[0m     \u001b[39m*\u001b[39m\u001b[39m*\u001b[39mkwargs,\n\u001b[1;32m   4670\u001b[0m ) \u001b[39m-\u001b[39m\u001b[39m>\u001b[39m DataFrame \u001b[39m|\u001b[39m Series:\n\u001b[1;32m   4671\u001b[0m \u001b[39m    \u001b[39m\u001b[39m\"\"\"\u001b[39;00m\n\u001b[1;32m   4672\u001b[0m \u001b[39m    Invoke function on values of Series.\u001b[39;00m\n\u001b[1;32m   4673\u001b[0m \n\u001b[0;32m   (...)\u001b[0m\n\u001b[1;32m   4772\u001b[0m \u001b[39m    dtype: float64\u001b[39;00m\n\u001b[1;32m   4773\u001b[0m \u001b[39m    \"\"\"\u001b[39;00m\n\u001b[0;32m-> 4774\u001b[0m     \u001b[39mreturn\u001b[39;00m SeriesApply(\u001b[39mself\u001b[39;49m, func, convert_dtype, args, kwargs)\u001b[39m.\u001b[39;49mapply()\n",
            "File \u001b[0;32m/Library/Frameworks/Python.framework/Versions/3.9/lib/python3.9/site-packages/pandas/core/apply.py:1100\u001b[0m, in \u001b[0;36mSeriesApply.apply\u001b[0;34m(self)\u001b[0m\n\u001b[1;32m   1097\u001b[0m     \u001b[39mreturn\u001b[39;00m \u001b[39mself\u001b[39m\u001b[39m.\u001b[39mapply_str()\n\u001b[1;32m   1099\u001b[0m \u001b[39m# self.f is Callable\u001b[39;00m\n\u001b[0;32m-> 1100\u001b[0m \u001b[39mreturn\u001b[39;00m \u001b[39mself\u001b[39;49m\u001b[39m.\u001b[39;49mapply_standard()\n",
            "File \u001b[0;32m/Library/Frameworks/Python.framework/Versions/3.9/lib/python3.9/site-packages/pandas/core/apply.py:1151\u001b[0m, in \u001b[0;36mSeriesApply.apply_standard\u001b[0;34m(self)\u001b[0m\n\u001b[1;32m   1149\u001b[0m     \u001b[39melse\u001b[39;00m:\n\u001b[1;32m   1150\u001b[0m         values \u001b[39m=\u001b[39m obj\u001b[39m.\u001b[39mastype(\u001b[39mobject\u001b[39m)\u001b[39m.\u001b[39m_values\n\u001b[0;32m-> 1151\u001b[0m         mapped \u001b[39m=\u001b[39m lib\u001b[39m.\u001b[39;49mmap_infer(\n\u001b[1;32m   1152\u001b[0m             values,\n\u001b[1;32m   1153\u001b[0m             f,\n\u001b[1;32m   1154\u001b[0m             convert\u001b[39m=\u001b[39;49m\u001b[39mself\u001b[39;49m\u001b[39m.\u001b[39;49mconvert_dtype,\n\u001b[1;32m   1155\u001b[0m         )\n\u001b[1;32m   1157\u001b[0m \u001b[39mif\u001b[39;00m \u001b[39mlen\u001b[39m(mapped) \u001b[39mand\u001b[39;00m \u001b[39misinstance\u001b[39m(mapped[\u001b[39m0\u001b[39m], ABCSeries):\n\u001b[1;32m   1158\u001b[0m     \u001b[39m# GH#43986 Need to do list(mapped) in order to get treated as nested\u001b[39;00m\n\u001b[1;32m   1159\u001b[0m     \u001b[39m#  See also GH#25959 regarding EA support\u001b[39;00m\n\u001b[1;32m   1160\u001b[0m     \u001b[39mreturn\u001b[39;00m obj\u001b[39m.\u001b[39m_constructor_expanddim(\u001b[39mlist\u001b[39m(mapped), index\u001b[39m=\u001b[39mobj\u001b[39m.\u001b[39mindex)\n",
            "File \u001b[0;32m/Library/Frameworks/Python.framework/Versions/3.9/lib/python3.9/site-packages/pandas/_libs/lib.pyx:2919\u001b[0m, in \u001b[0;36mpandas._libs.lib.map_infer\u001b[0;34m()\u001b[0m\n",
            "\u001b[1;32m/Users/niccolomarzi/Università/AI/SNA/Financial-Network-Analysis/SNA_project.ipynb Cella 13\u001b[0m line \u001b[0;36m1\n\u001b[1;32m     <a href='vscode-notebook-cell:/Users/niccolomarzi/Universit%C3%A0/AI/SNA/Financial-Network-Analysis/SNA_project.ipynb#X15sZmlsZQ%3D%3D?line=10'>11</a>\u001b[0m \u001b[39mfor\u001b[39;00m list1, list2 \u001b[39min\u001b[39;00m tqdm(couples):\n\u001b[1;32m     <a href='vscode-notebook-cell:/Users/niccolomarzi/Universit%C3%A0/AI/SNA/Financial-Network-Analysis/SNA_project.ipynb#X15sZmlsZQ%3D%3D?line=11'>12</a>\u001b[0m     \u001b[39m#coeff = correlation_coefficient(list1, list2)\u001b[39;00m\n\u001b[1;32m     <a href='vscode-notebook-cell:/Users/niccolomarzi/Universit%C3%A0/AI/SNA/Financial-Network-Analysis/SNA_project.ipynb#X15sZmlsZQ%3D%3D?line=12'>13</a>\u001b[0m     coeff \u001b[39m=\u001b[39m correlation_in_windows(list1, list2, \u001b[39m63\u001b[39m)\n\u001b[0;32m---> <a href='vscode-notebook-cell:/Users/niccolomarzi/Universit%C3%A0/AI/SNA/Financial-Network-Analysis/SNA_project.ipynb#X15sZmlsZQ%3D%3D?line=13'>14</a>\u001b[0m     idx_list1 \u001b[39m=\u001b[39m df\u001b[39m.\u001b[39mindex[df[\u001b[39m'\u001b[39m\u001b[39mLog_return\u001b[39m\u001b[39m'\u001b[39m]\u001b[39m.\u001b[39mapply(\u001b[39mlambda\u001b[39;00m x: np\u001b[39m.\u001b[39;49marray_equal(x, list1))]\u001b[39m.\u001b[39mtolist()[\u001b[39m0\u001b[39m]\n\u001b[1;32m     <a href='vscode-notebook-cell:/Users/niccolomarzi/Universit%C3%A0/AI/SNA/Financial-Network-Analysis/SNA_project.ipynb#X15sZmlsZQ%3D%3D?line=14'>15</a>\u001b[0m     idx_list2 \u001b[39m=\u001b[39m df\u001b[39m.\u001b[39mindex[df[\u001b[39m'\u001b[39m\u001b[39mLog_return\u001b[39m\u001b[39m'\u001b[39m]\u001b[39m.\u001b[39mapply(\u001b[39mlambda\u001b[39;00m x: np\u001b[39m.\u001b[39marray_equal(x, list2))]\u001b[39m.\u001b[39mtolist()[\u001b[39m0\u001b[39m]\n\u001b[1;32m     <a href='vscode-notebook-cell:/Users/niccolomarzi/Universit%C3%A0/AI/SNA/Financial-Network-Analysis/SNA_project.ipynb#X15sZmlsZQ%3D%3D?line=15'>16</a>\u001b[0m     df\u001b[39m.\u001b[39mat[idx_list1, \u001b[39m'\u001b[39m\u001b[39mCorrelation_coefficients\u001b[39m\u001b[39m'\u001b[39m][\u001b[39mf\u001b[39m\u001b[39m'\u001b[39m\u001b[39m{\u001b[39;00midx_list2\u001b[39m}\u001b[39;00m\u001b[39m'\u001b[39m] \u001b[39m=\u001b[39m coeff\n",
            "File \u001b[0;32m<__array_function__ internals>:180\u001b[0m, in \u001b[0;36marray_equal\u001b[0;34m(*args, **kwargs)\u001b[0m\n",
            "File \u001b[0;32m/Library/Frameworks/Python.framework/Versions/3.9/lib/python3.9/site-packages/numpy/core/numeric.py:2463\u001b[0m, in \u001b[0;36marray_equal\u001b[0;34m(a1, a2, equal_nan)\u001b[0m\n\u001b[1;32m   2461\u001b[0m     \u001b[39mreturn\u001b[39;00m \u001b[39mFalse\u001b[39;00m\n\u001b[1;32m   2462\u001b[0m \u001b[39mif\u001b[39;00m \u001b[39mnot\u001b[39;00m equal_nan:\n\u001b[0;32m-> 2463\u001b[0m     \u001b[39mreturn\u001b[39;00m \u001b[39mbool\u001b[39m(asarray(a1 \u001b[39m==\u001b[39;49m a2)\u001b[39m.\u001b[39;49mall())\n\u001b[1;32m   2464\u001b[0m \u001b[39m# Handling NaN values if equal_nan is True\u001b[39;00m\n\u001b[1;32m   2465\u001b[0m a1nan, a2nan \u001b[39m=\u001b[39m isnan(a1), isnan(a2)\n",
            "File \u001b[0;32m/Library/Frameworks/Python.framework/Versions/3.9/lib/python3.9/site-packages/numpy/core/_methods.py:63\u001b[0m, in \u001b[0;36m_all\u001b[0;34m(a, axis, dtype, out, keepdims, where)\u001b[0m\n\u001b[1;32m     60\u001b[0m \u001b[39mdef\u001b[39;00m \u001b[39m_all\u001b[39m(a, axis\u001b[39m=\u001b[39m\u001b[39mNone\u001b[39;00m, dtype\u001b[39m=\u001b[39m\u001b[39mNone\u001b[39;00m, out\u001b[39m=\u001b[39m\u001b[39mNone\u001b[39;00m, keepdims\u001b[39m=\u001b[39m\u001b[39mFalse\u001b[39;00m, \u001b[39m*\u001b[39m, where\u001b[39m=\u001b[39m\u001b[39mTrue\u001b[39;00m):\n\u001b[1;32m     61\u001b[0m     \u001b[39m# Parsing keyword arguments is currently fairly slow, so avoid it for now\u001b[39;00m\n\u001b[1;32m     62\u001b[0m     \u001b[39mif\u001b[39;00m where \u001b[39mis\u001b[39;00m \u001b[39mTrue\u001b[39;00m:\n\u001b[0;32m---> 63\u001b[0m         \u001b[39mreturn\u001b[39;00m umr_all(a, axis, dtype, out, keepdims)\n\u001b[1;32m     64\u001b[0m     \u001b[39mreturn\u001b[39;00m umr_all(a, axis, dtype, out, keepdims, where\u001b[39m=\u001b[39mwhere)\n",
            "\u001b[0;31mKeyboardInterrupt\u001b[0m: "
          ]
        }
      ],
      "source": [
        "from itertools import combinations\n",
        "from tqdm import tqdm\n",
        "\n",
        "#Generate all the combinations of couples of Log_return\n",
        "couples = list(combinations(df['Log_return'], 2))\n",
        "\n",
        "#Create a column Correlation_coefficients which is a list of dictionaries\n",
        "df['Correlation_coefficients'] = [{} for _ in range(len(df))]\n",
        "\n",
        "#Compute the correlation coefficient for each couple and store the value in the dictionary\n",
        "for list1, list2 in tqdm(couples):\n",
        "    #coeff = correlation_coefficient(list1, list2)\n",
        "    coeff = correlation_in_windows(list1, list2, 63)\n",
        "    idx_list1 = df.index[df['Log_return'].apply(lambda x: np.array_equal(x, list1))].tolist()[0]\n",
        "    idx_list2 = df.index[df['Log_return'].apply(lambda x: np.array_equal(x, list2))].tolist()[0]\n",
        "    df.at[idx_list1, 'Correlation_coefficients'][f'{idx_list2}'] = coeff\n",
        "    df.at[idx_list2, 'Correlation_coefficients'][f'{idx_list1}'] = coeff"
      ]
    },
    {
      "cell_type": "code",
      "execution_count": 132,
      "metadata": {
        "colab": {
          "base_uri": "https://localhost:8080/"
        },
        "id": "UO6w2VW0WyEy",
        "outputId": "812d7051-de0c-4863-db0e-060cf34ace02"
      },
      "outputs": [
        {
          "name": "stdout",
          "output_type": "stream",
          "text": [
            "{'ABITARE IN': -0.022598156053134654, 'ACEA': 0.2745278129141492, 'AEFFE': 0.08177577024847052, 'AEROP GUGL MARCO': 0.03302140944813425, 'ALERION CLEAN POWER': 0.1712435300327974, 'ALGOWATT': 0.04475674360656994, 'ALKEMY': 0.11164331096349396, 'AMPLIFON': 0.2014104951452453, 'ANIMA HOLDING': 0.16022845048654552, 'ANTARES VISION': -0.0011300246102870857, 'AQUAFIL': 0.03505297941947842, 'ASCOPIAVE': 0.0793183439886732, 'AUTOSTRADE MERIDIONALI': 0.13466941293698723, 'AVIO': 0.03062815556288564, 'AZIMUT HOLDING': 0.2559193274802407, 'BANCA GENERALI': 0.2682747822302983, 'BANCA IFIS': 0.14720996202711137, 'BANCA MEDIOLANUM': 0.2477738389428192, 'BANCA MONTE DEI PASCHI': 0.12986590801202583, 'BANCA SISTEMA': 0.040839371416652705, 'BANCO BPM': 0.16843888501374982, 'BASICNET': 0.007872130703639353, 'BASTOGI': -0.09174448074217242, 'BANCA PPO.DI SONDRIO': 0.11115816457491033, 'BANCA PROFILO': -0.030727694818177245, 'BEEWIZE': 0.08937412946072142, 'BEGHELLI': 0.07171017229018911, 'BFF BANK': 0.08341598572120389, 'BIALETTI INDUSTRIE': 0.10815054451573856, 'BIESSE': 0.16907899198588036, 'BIOERA': 0.049898514016038516, 'BORGOSESIA': 0.08098971123335647, 'BPER BANCA': 0.10901652052280571, 'FRENI BREMBO': 0.06496148975054183, 'BRIOSCHI SVILUPPO IMMBL': 0.00918442961391016, 'BRUNELLO CUCINELLI': 0.24210149494765731, 'BUZZI': 0.1794727057686356, 'CAIRO COMMUNICATION': 0.09857534801787406, 'CALEFFI': 0.10117643943850164, 'CALTAGIRONE': 0.0013189606713130812, 'DAVIDE CAMPARI MILANO': 0.16361087433080118, 'CAREL': 0.11883910061459867, 'CELLULARLINE': 0.07651428787736554, 'CEMBRE': 0.13805191228462657, 'CEMENTIR HOLDING': 0.08906877772560308, \"CENTRALE DEL LATTE D'ITALIA\": 0.08077661190487471, 'CIA': 0.009808277600955762, 'COMPAGNIE INDUSTRIALI RIUNITE SHS': 0.018699228287433253, 'CLASS EDITORI': 0.02353718423972084, 'CNH INDUSTRIAL': 0.2371542655420468, 'CONAFI': -0.010284821876005807, 'CREDITO EMILIANO': 0.09957506285835524, 'CSP INTERNATIONAL': 0.0014517122684865123, 'CY4GATE SPA': 0.16027542457836927, \"D'AMICO INTL.SHIP.\": -0.07662270634397648, 'DANIELI': 0.1320869175082125, 'DATALOGIC': 0.12705175737683672, 'DE LONGHI': 0.19833721464453263, 'DIASORIN': 0.17997284688575982, 'DIGITAL BROS': 0.1369375063314344, 'DIGITAL VALUE': 0.11031571624375948, 'DOVALUE': 0.009301040438462006, 'EEMS ITALIA': 0.009930166306567878, 'EL EN': 0.13994191968111383, 'ELICA': 0.034837557939427215, 'EMAK': 0.15884987988923385, 'ENAV': 0.10540686481294438, 'ENEL': 0.3443374554792524, 'ENERVIT': -0.005153535750683513, 'ENI': 0.18274217829461825, 'EQUITA GROUP': -0.010801326552608874, 'ERG': 0.2830384374533988, 'ESPRINET': 0.1634043578135641, 'EUROTECH': 0.12189975551224932, 'EXPRIVIA': -0.0325341947571282, 'FERRARI': 0.0946997343186005, 'FIDIA': 0.026911407964671962, 'FIERA MILANO': 0.043245456103364006, 'FILA': 0.0822508431588464, 'FINCANTIERI': 0.01869605341078785, 'FINE FOODS & PHARMACEUTICALS NTM': 0.04239154495921823, 'FINECOBANK SPA': 0.2117126368128137, 'FNM': -0.0011331127146605516, 'GAROFALO HEALTH CARE': 0.0269522479631651, 'GAS PLUS': -0.01967721219539421, 'GEFRAN': 0.07429558242016966, 'GEOX': 0.1344516001245382, 'GEQUITY': -0.07492114718509207, 'ASSICURAZIONI GENERALI': 0.21177673478464537, 'GIGLIO GROUP': 0.009074799423148122, 'GPI': 0.13630625812126293, 'AMBIENTHESIS': -0.0037861219310302064, 'GVS': 0.02239081990934783, 'HERA': 0.27781801196960243, 'GRANDI VIAGGI': 0.015156144134039434, 'IMMOBILIARE GRDE. DTBZ. SO.DI INVM.IMMB.': 0.10445541721744016, 'IL SOLE 24 ORE': 0.006466253438171785, 'ILLIMITY BANK': 0.09240230432953159, 'IMMSI': -0.026377754410391294, 'INTERPUMP GROUP': 0.256873800982747, 'INTESA SANPAOLO': 0.2025632805302492, 'INFRASTRUTTURE WIRELESS ITALIANE SPA NPV': 0.24186906128637586, 'IREN': 0.2778876027114512, 'IT WAY': -0.06166239895854078, 'ITALGAS': 0.2192151645324026, 'ITALIAN EXHIBITION GROUP': 0.021327018868654395, 'ITALMOBILIARE': 0.1954511347771068, 'JUVENTUS FOOTBALL CLUB': -0.026031910352314124, 'INTEK GROUP': 0.03472058413718168, 'LANDI RENZO': 0.010899923743052492, 'LEONARDO': 0.09392027277517209, 'LUVE': 0.0752045390118652, 'MAIRE TECNIMONT': 0.12909753587212222, 'MARR': 0.160660919935395, 'MEDIOBANCA BC.FIN': 0.17644431910771782, 'MFE B': 0.12376450136233594, 'MONCLER': 0.25757956515327185, 'ARNOLDO MONDADORI EDI.': 0.10065283590019103, 'MONDO TV': 0.019547138986892264, 'MONRIF': 0.019508907784845323, 'GRUPPO MUTUIONLINE': 0.19289539346797938, 'NEODECORTECH': -0.008883527988184715, 'NETWEEK': 0.013691404108028523, 'NEWLAT FOOD': -0.017903150184186405, 'NEXI': 0.20157412583709108, 'OLIDATA': nan, 'OPENJOBMETIS SPA AGENZIA PER IL LAVO': 0.00618746088285951, 'ORSERO': 0.060278106709477926, 'OVS SPA': 0.1475876831210744, 'PHARMANUTRA': 0.1259296915121845, 'PIAGGIO': 0.1232272420195058, 'PIERREL': 0.10289766488082806, 'PININFARINA': -0.03710171976913128, 'PIQUADRO': -0.0420573713321534, 'PIRELLI & C': 0.17384665947474578, 'PLC': 0.03777917142916714, 'POSTE ITALIANE': 0.2361386140098504, 'PRYSMIAN': 0.24011666481492144, 'RAI WAY': 0.08898293382958071, 'RIZZOLI CRER.DLSM.GP.': 0.015624837421726023, 'RECORDATI INDUA.CHIMICA': 0.21552508167541118, 'REPLY': 0.2355234869088093, 'RESTART': -0.046995980088068025, 'RISANAMENTO': 0.013079257456896668, 'SS LAZIO': 0.010106347992075533, 'SABAF': 0.05242995607460323, 'SAES GETTERS': 0.11564039257819396, 'SAFILO GROUP': -0.016293533549823467, 'SAIPEM': 0.06692293945382094, 'SALCEF GROUP': 0.045809816551807596, 'SALVATORE FERRAGAMO': 0.10397153911393539, 'SANLORENZO': 0.1642570750707829, 'SARAS': 0.03435696969556123, 'SERI INDUSTRIAL': 0.16716984806173055, 'SERVIZI ITALIA': 0.04027268381974177, 'SESA': 0.1779163235398549, 'SIT': -0.008184258039019437, 'SNAM': 0.24315988227176966, 'SOFTLAB': 0.06305855879016525, 'SOGEFI': 0.029803380723286324, 'SOL': 0.0948591578941154, 'SOMEC': 0.10870530769001328, 'STELLANTIS': 0.19896284627528188, 'STMICROELECTRONICS': 0.1962904841699005, 'TAMBURI INV.PARTNERS': 0.1115370566288675, 'TECHNOGYM': 0.16705442247144442, 'TELECOM ITALIA': 0.018882103112246532, 'TENARIS': 0.08793296875597381, 'TERNA RETE ELETTRICA NAZ': 0.24906579812844123, 'TESMEC': 0.004107728103269905, 'TESSELLIS': 0.048774434122312145, 'TINEXTA': 0.1634481640916415, \"TOD'S\": 0.17355767038878764, 'TREVI FIN INDUSTRIALE': 0.12880799840443838, 'TRIBOO': 0.001094993820519683, 'TXT E-SOLUTION': 0.1046612995194645, 'UNICREDIT': 0.18171331931717252, 'UNIDATA': 0.05362951237254449, 'UNIEURO': 0.07229009160065675, 'VALSOIA': 0.04247450164335143, 'WEBUILD': 0.14352079899707612, 'WIIT': 0.11802425737323623, 'ZIGNAGO VETRO': 0.1243788912177496, 'VINCENZO ZUCCHI': 0.09473273311928918}\n"
          ]
        }
      ],
      "source": [
        "#Each row of Correlation_coefficients looks...\n",
        "\n",
        "print(df.iloc[0]['Correlation_coefficients'])"
      ]
    },
    {
      "cell_type": "code",
      "execution_count": 133,
      "metadata": {
        "colab": {
          "base_uri": "https://localhost:8080/",
          "height": 493
        },
        "id": "TbWXioM9UViR",
        "outputId": "41c4e6f7-ed34-4c99-acda-f8df44bcface"
      },
      "outputs": [
        {
          "data": {
            "image/png": "[encoded data removed]",
            "text/plain": [
              "<Figure size 640x480 with 1 Axes>"
            ]
          },
          "metadata": {},
          "output_type": "display_data"
        }
      ],
      "source": [
        "\n",
        "#Extract the correlation coefficients\n",
        "coefficients = df['Correlation_coefficients'].apply(lambda x: list(x.values())).sum()\n",
        "\n",
        "#Plot the distribution of correlation coefficients\n",
        "plt.hist(coefficients, bins=50, edgecolor='black')\n",
        "plt.xlabel('Correlation coefficient')\n",
        "plt.ylabel('Count')\n",
        "plt.title('Correlation coefficients distribution')\n",
        "plt.show()\n"
      ]
    },
    {
      "cell_type": "code",
      "execution_count": 268,
      "metadata": {
        "id": "6uK24Kr9dCSr"
      },
      "outputs": [],
      "source": [
        "#Choose a threshold for the correlation coefficient\n",
        "\n",
        "up_cc_threshold = 0.35\n",
        "low_cc_threshold = -0.01"
      ]
    },
    {
      "cell_type": "code",
      "execution_count": 269,
      "metadata": {
        "id": "Dj0V1zvhdAYR"
      },
      "outputs": [],
      "source": [
        "G = nx.Graph()\n",
        "\n",
        "for node in df.index:\n",
        "    G.add_node(node)\n",
        "\n",
        "index = 0\n",
        "for node in df.index:\n",
        "  for connected_node, weight in df.iloc[index]['Correlation_coefficients'].items():\n",
        "    if weight >= up_cc_threshold : #and weight >= low_cc_threshold\n",
        "      G.add_edge(node, connected_node, weight=weight)\n",
        "  index += 1"
      ]
    },
    {
      "cell_type": "code",
      "execution_count": 270,
      "metadata": {
        "id": "zvmI_6jH8ev9"
      },
      "outputs": [],
      "source": [
        "MST = nx.minimum_spanning_tree(G)"
      ]
    },
    {
      "cell_type": "code",
      "execution_count": 271,
      "metadata": {
        "colab": {
          "base_uri": "https://localhost:8080/",
          "height": 537
        },
        "id": "y3Fdjp_S8heu",
        "outputId": "ae7c8d2b-99a5-4288-c2e6-56d15e14e43c"
      },
      "outputs": [
        {
          "data": {
            "image/png": "[encoded data removed]",
            "text/plain": [
              "<Figure size 640x480 with 1 Axes>"
            ]
          },
          "metadata": {},
          "output_type": "display_data"
        }
      ],
      "source": [
        "nx.draw(MST, with_labels=False, node_color='blue', node_size=10, font_size=8, width=0.1)\n",
        "plt.show()"
      ]
    },
    {
      "cell_type": "code",
      "execution_count": 272,
      "metadata": {
        "colab": {
          "base_uri": "https://localhost:8080/",
          "height": 537
        },
        "id": "x3Dh0eiIdIVQ",
        "outputId": "e7c0c2fa-0b11-4bf0-d92e-fc7f3b16378d"
      },
      "outputs": [
        {
          "data": {
            "image/png": "[encoded data removed]",
            "text/plain": [
              "<Figure size 640x480 with 1 Axes>"
            ]
          },
          "metadata": {},
          "output_type": "display_data"
        }
      ],
      "source": [
        "import matplotlib.pyplot as plt\n",
        "\n",
        "#Network visualization\n",
        "nx.draw(G, with_labels=False, node_color='blue', node_size=10, font_size=8, width=0.1)\n",
        "plt.show()"
      ]
    },
    {
      "cell_type": "code",
      "execution_count": 273,
      "metadata": {
        "colab": {
          "base_uri": "https://localhost:8080/",
          "height": 497
        },
        "id": "DxlziGWUbFR_",
        "outputId": "da40811c-8ce1-4155-ca32-4dd1cd8e3c18"
      },
      "outputs": [
        {
          "data": {
            "image/png": "[encoded data removed]",
            "text/plain": [
              "<Figure size 640x480 with 1 Axes>"
            ]
          },
          "metadata": {},
          "output_type": "display_data"
        }
      ],
      "source": [
        "#Degree distribution\n",
        "\n",
        "counts = nx.degree_histogram(G)\n",
        "degrees = [i for i in range(len(counts))]\n",
        "\n",
        "plt.scatter(degrees, counts, color='b')\n",
        "plt.xscale('log')\n",
        "plt.yscale('log')\n",
        "plt.xlabel('Node degree')\n",
        "plt.ylabel('Number of vertices')\n",
        "plt.title('Degree distribution')\n",
        "plt.show()\n"
      ]
    },
    {
      "cell_type": "code",
      "execution_count": 274,
      "metadata": {
        "colab": {
          "base_uri": "https://localhost:8080/"
        },
        "id": "nkbTREZPfB5g",
        "outputId": "dcbc1e0e-b598-4322-f044-5eee266eb57c"
      },
      "outputs": [
        {
          "name": "stdout",
          "output_type": "stream",
          "text": [
            "0.016216216216216217\n"
          ]
        }
      ],
      "source": [
        "#The density of the graph\n",
        "\n",
        "density = nx.density(G)\n",
        "print(density)"
      ]
    },
    {
      "cell_type": "code",
      "execution_count": 275,
      "metadata": {
        "colab": {
          "base_uri": "https://localhost:8080/"
        },
        "id": "aIrAhcvXgDQX",
        "outputId": "abcc29b8-0a58-4163-af9e-e062a7b46de3"
      },
      "outputs": [
        {
          "name": "stdout",
          "output_type": "stream",
          "text": [
            "52\n"
          ]
        }
      ],
      "source": [
        "#How many nodes with degree different from zero there are\n",
        "\n",
        "nodes_with_nozero_degree = []\n",
        "\n",
        "for node, deg in nx.degree(G):\n",
        "  if deg != 0:\n",
        "    nodes_with_nozero_degree.append(node)\n",
        "\n",
        "print(len(nodes_with_nozero_degree))"
      ]
    },
    {
      "cell_type": "code",
      "execution_count": 276,
      "metadata": {
        "colab": {
          "base_uri": "https://localhost:8080/"
        },
        "id": "IMYnSHRuoW4x",
        "outputId": "d100dd3b-cb71-4691-9adf-86f59e461eae"
      },
      "outputs": [
        {
          "name": "stdout",
          "output_type": "stream",
          "text": [
            "158\n"
          ]
        }
      ],
      "source": [
        "indset = nx.approximation.maximum_independent_set(G)\n",
        "print(len(indset))"
      ]
    },
    {
      "cell_type": "code",
      "execution_count": 277,
      "metadata": {
        "colab": {
          "base_uri": "https://localhost:8080/"
        },
        "id": "JBpYVxshjQZP",
        "outputId": "ce998e4e-e598-44ed-8559-9c1074f4afe8"
      },
      "outputs": [
        {
          "name": "stdout",
          "output_type": "stream",
          "text": [
            "10\n"
          ]
        }
      ],
      "source": [
        "#CLIQUES\n",
        "clique = nx.approximation.max_clique(G)\n",
        "print(len(clique))"
      ]
    },
    {
      "cell_type": "code",
      "execution_count": 278,
      "metadata": {
        "colab": {
          "base_uri": "https://localhost:8080/"
        },
        "id": "pMEczgfdk6wc",
        "outputId": "17126de5-6f06-439d-f5f8-dd090c372b16"
      },
      "outputs": [
        {
          "data": {
            "text/plain": [
              "0.18167"
            ]
          },
          "execution_count": 278,
          "metadata": {},
          "output_type": "execute_result"
        }
      ],
      "source": [
        "nx.approximation.average_clustering(G, trials=100000, seed=10)"
      ]
    },
    {
      "cell_type": "code",
      "execution_count": null,
      "metadata": {},
      "outputs": [],
      "source": [
        "# Write"
      ]
    }
  ],
  "metadata": {
    "accelerator": "GPU",
    "colab": {
      "provenance": []
    },
    "kernelspec": {
      "display_name": "Python 3",
      "name": "python3"
    },
    "language_info": {
      "codemirror_mode": {
        "name": "ipython",
        "version": 3
      },
      "file_extension": ".py",
      "mimetype": "text/x-python",
      "name": "python",
      "nbconvert_exporter": "python",
      "pygments_lexer": "ipython3",
      "version": "3.9.4"
    }
  },
  "nbformat": 4,
  "nbformat_minor": 0
}
